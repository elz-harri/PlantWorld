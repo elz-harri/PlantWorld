{
 "cells": [
  {
   "cell_type": "code",
   "execution_count": 1,
   "metadata": {},
   "outputs": [],
   "source": [
    "from bs4 import BeautifulSoup\n",
    "import pymongo\n",
    "import pandas as pd\n",
    "import requests\n",
    "from sqlalchemy import create_engine\n",
    "\n",
    "# Document Resource :https://docs.trefle.io/docs/examples/snippets"
   ]
  },
  {
   "cell_type": "code",
   "execution_count": 2,
   "metadata": {},
   "outputs": [
    {
     "data": {
      "text/plain": [
       "'lJB461ruHXGiw6SBUD_liGd6XLjQI6Kyqj0AGLhhKn0'"
      ]
     },
     "execution_count": 2,
     "metadata": {},
     "output_type": "execute_result"
    }
   ],
   "source": [
    "# Create an URL \n",
    "APIKey = \"lJB461ruHXGiw6SBUD_liGd6XLjQI6Kyqj0AGLhhKn0\"\n",
    "APIKey\n"
   ]
  },
  {
   "cell_type": "code",
   "execution_count": 3,
   "metadata": {},
   "outputs": [
    {
     "data": {
      "text/plain": [
       "'https://trefle.io/api/v1/plants?token=lJB461ruHXGiw6SBUD_liGd6XLjQI6Kyqj0AGLhhKn0'"
      ]
     },
     "execution_count": 3,
     "metadata": {},
     "output_type": "execute_result"
    }
   ],
   "source": [
    "url = f\"https://trefle.io/api/v1/plants?token={APIKey}\"\n",
    "url"
   ]
  },
  {
   "cell_type": "code",
   "execution_count": 4,
   "metadata": {},
   "outputs": [],
   "source": [
    "# Need to get data on all plants and species and save it as a DB \n",
    "all_plants = requests.get(url)\n",
    "plants_list = all_plants.json()"
   ]
  },
  {
   "cell_type": "code",
   "execution_count": 5,
   "metadata": {},
   "outputs": [],
   "source": [
    "# Need to get data on all species and species and save it as a DB \n",
    "species_url = url = f\"https://trefle.io/api/v1/species?token={APIKey}\"\n",
    "all_species = requests.get(species_url)\n",
    "species_list = all_plants.json()\n"
   ]
  },
  {
   "cell_type": "code",
   "execution_count": 6,
   "metadata": {},
   "outputs": [],
   "source": [
    "# Need to get data on all edible plants and species and save it as a DB \n",
    "edible_url = f\"https://trefle.io/api/v1/plants?filter_not%5Bedible_part%5D=null&token={APIKey}\"\n",
    "all_edible = requests.get(edible_url)\n",
    "edible_list = all_plants.json()\n"
   ]
  },
  {
   "cell_type": "code",
   "execution_count": 7,
   "metadata": {},
   "outputs": [],
   "source": [
    "# Get all Tallest trees\n",
    "tall_tree_url = f\"https://trefle.io/api/v1/plants?filter_not%5Bmaximum_height_cm%5D=null&filter%5Bligneous_type%5D=tree&order%5Bmaximum_height_cm%5D=desc&token={APIKey}\"\n",
    "all_tall_tree = requests.get(tall_tree_url)\n",
    "tall_tree_list = all_tall_tree.json()"
   ]
  },
  {
   "cell_type": "code",
   "execution_count": 8,
   "metadata": {},
   "outputs": [],
   "source": [
    "# Get all the Countries/zones\n",
    "zones_url = f\"https://trefle.io/api/v1/distributions?token={APIKey}\"\n",
    "zones_list = requests.get(zones_url).json()"
   ]
  },
  {
   "cell_type": "code",
   "execution_count": 9,
   "metadata": {},
   "outputs": [],
   "source": [
    "# Get all genus\n",
    "genus_url = f\"https://trefle.io/api/v1/genus?token={APIKey}\"\n",
    "genus_list = requests.get(genus_url).json()"
   ]
  },
  {
   "cell_type": "code",
   "execution_count": null,
   "metadata": {},
   "outputs": [],
   "source": []
  }
 ],
 "metadata": {
  "kernelspec": {
   "display_name": "Python 3",
   "language": "python",
   "name": "python3"
  },
  "language_info": {
   "codemirror_mode": {
    "name": "ipython",
    "version": 3
   },
   "file_extension": ".py",
   "mimetype": "text/x-python",
   "name": "python",
   "nbconvert_exporter": "python",
   "pygments_lexer": "ipython3",
   "version": "3.8.3"
  }
 },
 "nbformat": 4,
 "nbformat_minor": 4
}
