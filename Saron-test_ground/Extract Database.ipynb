{
 "cells": [
  {
   "cell_type": "markdown",
   "metadata": {},
   "source": [
    "# Insert Module"
   ]
  },
  {
   "cell_type": "code",
   "execution_count": 6,
   "metadata": {},
   "outputs": [],
   "source": [
    "from bs4 import BeautifulSoup\n",
    "import pymongo\n",
    "import pandas as pd\n",
    "import requests\n",
    "from sqlalchemy import create_engine\n",
    "import json\n",
    "\n",
    "# Document Resource :https://docs.trefle.io/docs/examples/snippets"
   ]
  },
  {
   "cell_type": "code",
   "execution_count": 7,
   "metadata": {},
   "outputs": [],
   "source": [
    "# US distribution ids:\n",
    "# Northern America - \n",
    "# 595\n",
    "# 601\n",
    "# 602\n",
    "# 603\n",
    "# 604\n",
    "# 605\n",
    "# 606\n",
    "# Alaska 325\n",
    "\n",
    "Us_Distribution_id = [595,601,602,603,604,605,606]"
   ]
  },
  {
   "cell_type": "markdown",
   "metadata": {},
   "source": [
    "# API & URL"
   ]
  },
  {
   "cell_type": "code",
   "execution_count": 8,
   "metadata": {},
   "outputs": [],
   "source": [
    "APIKey = \"lJB461ruHXGiw6SBUD_liGd6XLjQI6Kyqj0AGLhhKn0\"\n",
    "# url = f\"https://trefle.io"
   ]
  },
  {
   "cell_type": "markdown",
   "metadata": {},
   "source": [
    "# API Call for Phylum Tree "
   ]
  },
  {
   "cell_type": "code",
   "execution_count": 68,
   "metadata": {},
   "outputs": [],
   "source": [
    "# Making an APi call to get Tree structure: From Kingdom - Family\n",
    "kingdom_Family_request = requests.get(f\"https://trefle.io/api/v1/families?token={APIKey}\")\n",
    "kingdom_family_json = kingdom_Family_request.json()\n",
    "# kingdom_family_json\n"
   ]
  },
  {
   "cell_type": "code",
   "execution_count": 69,
   "metadata": {},
   "outputs": [],
   "source": [
    "# kingdom_family_json"
   ]
  },
  {
   "cell_type": "code",
   "execution_count": 43,
   "metadata": {},
   "outputs": [
    {
     "data": {
      "text/plain": [
       "34"
      ]
     },
     "execution_count": 43,
     "metadata": {},
     "output_type": "execute_result"
    }
   ],
   "source": [
    "\n",
    "name_url = f\"https://trefle.io/api/v1/families?token={APIKey}\"\n",
    "results = requests.get(name_url)\n",
    "meta_data = results.json()['meta']\n",
    "meta_total = meta_data[\"total\"]\n",
    "if meta_total % 20 != 0:\n",
    "    pages = round(meta_total/20 +1,0)\n",
    "else:\n",
    "    pages = int(meta_total/20)\n",
    "    \n",
    "pages = int(pages)\n",
    "pages"
   ]
  },
  {
   "cell_type": "code",
   "execution_count": 62,
   "metadata": {},
   "outputs": [
    {
     "data": {
      "text/plain": [
       "[{'id': 326,\n",
       "  'name': 'Zamiaceae',\n",
       "  'common_name': 'Sago-palm family',\n",
       "  'slug': 'zamiaceae',\n",
       "  'links': {'self': '/api/v1/families/zamiaceae',\n",
       "   'division_order': '/api/v1/division_orders/cycadales',\n",
       "   'genus': '/api/v1/families/zamiaceae/genus'},\n",
       "  'division_order': {'id': 109,\n",
       "   'name': 'Cycadales',\n",
       "   'slug': 'cycadales',\n",
       "   'links': {'self': '/api/v1/division_orders/cycadales',\n",
       "    'division_class': '/api/v1/division_classes/cycadopsida'},\n",
       "   'division_class': {'id': 14,\n",
       "    'name': 'Cycadopsida',\n",
       "    'slug': 'cycadopsida',\n",
       "    'links': {'self': '/api/v1/division_classes/cycadopsida',\n",
       "     'division': '/api/v1/divisions/cycadophyta'},\n",
       "    'division': {'id': 4,\n",
       "     'name': 'Cycadophyta',\n",
       "     'slug': 'cycadophyta',\n",
       "     'links': {'self': '/api/v1/divisions/cycadophyta',\n",
       "      'subkingdom': '/api/v1/subkingdoms/tracheobionta'},\n",
       "     'subkingdom': {'id': 1,\n",
       "      'name': 'Tracheobionta',\n",
       "      'slug': 'tracheobionta',\n",
       "      'links': {'self': '/api/v1/subkingdoms/tracheobionta',\n",
       "       'kingdom': '/api/v1/kingdoms/1'},\n",
       "      'kingdom': {'id': 1,\n",
       "       'name': 'Plantae',\n",
       "       'slug': None,\n",
       "       'links': {'self': '/api/v1/kingdoms/1'}}}}}}},\n",
       " {'id': 572,\n",
       "  'name': 'Zannichelliaceae',\n",
       "  'common_name': 'Horned pondweed family',\n",
       "  'slug': 'zannichelliaceae',\n",
       "  'links': {'self': '/api/v1/families/zannichelliaceae',\n",
       "   'division_order': '/api/v1/division_orders/najadales',\n",
       "   'genus': '/api/v1/families/zannichelliaceae/genus'},\n",
       "  'division_order': {'id': 66,\n",
       "   'name': 'Najadales',\n",
       "   'slug': 'najadales',\n",
       "   'links': {'self': '/api/v1/division_orders/najadales',\n",
       "    'division_class': '/api/v1/division_classes/liliopsida'},\n",
       "   'division_class': {'id': 4,\n",
       "    'name': 'Liliopsida',\n",
       "    'slug': 'liliopsida',\n",
       "    'links': {'self': '/api/v1/division_classes/liliopsida',\n",
       "     'division': '/api/v1/divisions/magnoliophyta'},\n",
       "    'division': {'id': 1,\n",
       "     'name': 'Magnoliophyta',\n",
       "     'slug': 'magnoliophyta',\n",
       "     'links': {'self': '/api/v1/divisions/magnoliophyta',\n",
       "      'subkingdom': '/api/v1/subkingdoms/tracheobionta'},\n",
       "     'subkingdom': {'id': 1,\n",
       "      'name': 'Tracheobionta',\n",
       "      'slug': 'tracheobionta',\n",
       "      'links': {'self': '/api/v1/subkingdoms/tracheobionta',\n",
       "       'kingdom': '/api/v1/kingdoms/1'},\n",
       "      'kingdom': {'id': 1,\n",
       "       'name': 'Plantae',\n",
       "       'slug': None,\n",
       "       'links': {'self': '/api/v1/kingdoms/1'}}}}}}},\n",
       " {'id': 57,\n",
       "  'name': 'Zingiberaceae',\n",
       "  'common_name': 'Ginger family',\n",
       "  'slug': 'zingiberaceae',\n",
       "  'links': {'self': '/api/v1/families/zingiberaceae',\n",
       "   'division_order': '/api/v1/division_orders/zingiberales',\n",
       "   'genus': '/api/v1/families/zingiberaceae/genus'},\n",
       "  'division_order': {'id': 38,\n",
       "   'name': 'Zingiberales',\n",
       "   'slug': 'zingiberales',\n",
       "   'links': {'self': '/api/v1/division_orders/zingiberales',\n",
       "    'division_class': '/api/v1/division_classes/liliopsida'},\n",
       "   'division_class': {'id': 4,\n",
       "    'name': 'Liliopsida',\n",
       "    'slug': 'liliopsida',\n",
       "    'links': {'self': '/api/v1/division_classes/liliopsida',\n",
       "     'division': '/api/v1/divisions/magnoliophyta'},\n",
       "    'division': {'id': 1,\n",
       "     'name': 'Magnoliophyta',\n",
       "     'slug': 'magnoliophyta',\n",
       "     'links': {'self': '/api/v1/divisions/magnoliophyta',\n",
       "      'subkingdom': '/api/v1/subkingdoms/tracheobionta'},\n",
       "     'subkingdom': {'id': 1,\n",
       "      'name': 'Tracheobionta',\n",
       "      'slug': 'tracheobionta',\n",
       "      'links': {'self': '/api/v1/subkingdoms/tracheobionta',\n",
       "       'kingdom': '/api/v1/kingdoms/1'},\n",
       "      'kingdom': {'id': 1,\n",
       "       'name': 'Plantae',\n",
       "       'slug': None,\n",
       "       'links': {'self': '/api/v1/kingdoms/1'}}}}}}},\n",
       " {'id': 452,\n",
       "  'name': 'Zosteraceae',\n",
       "  'common_name': 'Eel-grass family',\n",
       "  'slug': 'zosteraceae',\n",
       "  'links': {'self': '/api/v1/families/zosteraceae',\n",
       "   'division_order': '/api/v1/division_orders/najadales',\n",
       "   'genus': '/api/v1/families/zosteraceae/genus'},\n",
       "  'division_order': {'id': 66,\n",
       "   'name': 'Najadales',\n",
       "   'slug': 'najadales',\n",
       "   'links': {'self': '/api/v1/division_orders/najadales',\n",
       "    'division_class': '/api/v1/division_classes/liliopsida'},\n",
       "   'division_class': {'id': 4,\n",
       "    'name': 'Liliopsida',\n",
       "    'slug': 'liliopsida',\n",
       "    'links': {'self': '/api/v1/division_classes/liliopsida',\n",
       "     'division': '/api/v1/divisions/magnoliophyta'},\n",
       "    'division': {'id': 1,\n",
       "     'name': 'Magnoliophyta',\n",
       "     'slug': 'magnoliophyta',\n",
       "     'links': {'self': '/api/v1/divisions/magnoliophyta',\n",
       "      'subkingdom': '/api/v1/subkingdoms/tracheobionta'},\n",
       "     'subkingdom': {'id': 1,\n",
       "      'name': 'Tracheobionta',\n",
       "      'slug': 'tracheobionta',\n",
       "      'links': {'self': '/api/v1/subkingdoms/tracheobionta',\n",
       "       'kingdom': '/api/v1/kingdoms/1'},\n",
       "      'kingdom': {'id': 1,\n",
       "       'name': 'Plantae',\n",
       "       'slug': None,\n",
       "       'links': {'self': '/api/v1/kingdoms/1'}}}}}}},\n",
       " {'id': 174,\n",
       "  'name': 'Zygophyllaceae',\n",
       "  'common_name': 'Creosote-bush family',\n",
       "  'slug': 'zygophyllaceae',\n",
       "  'links': {'self': '/api/v1/families/zygophyllaceae',\n",
       "   'division_order': '/api/v1/division_orders/sapindales',\n",
       "   'genus': '/api/v1/families/zygophyllaceae/genus'},\n",
       "  'division_order': {'id': 17,\n",
       "   'name': 'Sapindales',\n",
       "   'slug': 'sapindales',\n",
       "   'links': {'self': '/api/v1/division_orders/sapindales',\n",
       "    'division_class': '/api/v1/division_classes/magnoliopsida'},\n",
       "   'division_class': {'id': 1,\n",
       "    'name': 'Magnoliopsida',\n",
       "    'slug': 'magnoliopsida',\n",
       "    'links': {'self': '/api/v1/division_classes/magnoliopsida',\n",
       "     'division': '/api/v1/divisions/magnoliophyta'},\n",
       "    'division': {'id': 1,\n",
       "     'name': 'Magnoliophyta',\n",
       "     'slug': 'magnoliophyta',\n",
       "     'links': {'self': '/api/v1/divisions/magnoliophyta',\n",
       "      'subkingdom': '/api/v1/subkingdoms/tracheobionta'},\n",
       "     'subkingdom': {'id': 1,\n",
       "      'name': 'Tracheobionta',\n",
       "      'slug': 'tracheobionta',\n",
       "      'links': {'self': '/api/v1/subkingdoms/tracheobionta',\n",
       "       'kingdom': '/api/v1/kingdoms/1'},\n",
       "      'kingdom': {'id': 1,\n",
       "       'name': 'Plantae',\n",
       "       'slug': None,\n",
       "       'links': {'self': '/api/v1/kingdoms/1'}}}}}}}]"
      ]
     },
     "execution_count": 62,
     "metadata": {},
     "output_type": "execute_result"
    }
   ],
   "source": [
    "data = []\n",
    "for page in range(1,pages+1):\n",
    "    \n",
    "    if page == 1:\n",
    "        results = requests.get(name_url)\n",
    "        data = results.json()['data']\n",
    "#         names = [sub['common_name'] for sub in data]\n",
    "#         s_name = [sub['scientific_name'] for sub in data]\n",
    "#         image = [sub['image_url'] for sub in data]\n",
    "#         common_name.append(names)\n",
    "#         scientific_name.append(s_name)\n",
    "        image_url.append(image)\n",
    "    else:\n",
    "        page_url = f\"https://trefle.io/api/v1/families?token={APIKey}&page={page}\"\n",
    "        results = requests.get(page_url)\n",
    "        data = results.json()['data']\n",
    "#         names = [sub['common_name'] for sub in data]\n",
    "#         s_name = [sub['scientific_name'] for sub in data]\n",
    "#         image = [sub['image_url'] for sub in data]\n",
    "#         common_name.append(names)\n",
    "#         scientific_name.append(s_name)\n",
    "#         image_url.append(image)\n",
    "        \n",
    "        i = +1\n",
    "data"
   ]
  },
  {
   "cell_type": "code",
   "execution_count": 66,
   "metadata": {},
   "outputs": [
    {
     "data": {
      "text/plain": [
       "0"
      ]
     },
     "execution_count": 66,
     "metadata": {},
     "output_type": "execute_result"
    }
   ],
   "source": []
  },
  {
   "cell_type": "code",
   "execution_count": null,
   "metadata": {},
   "outputs": [],
   "source": []
  },
  {
   "cell_type": "code",
   "execution_count": 51,
   "metadata": {},
   "outputs": [
    {
     "data": {
      "text/plain": [
       "['Acanthaceae',\n",
       " 'Aceraceae',\n",
       " 'Achariaceae',\n",
       " 'Achatocarpaceae',\n",
       " 'Acoraceae',\n",
       " 'Acrobolbaceae',\n",
       " 'Actinidiaceae',\n",
       " 'Adoxaceae',\n",
       " 'Aextoxicaceae',\n",
       " 'Agavaceae',\n",
       " 'Aizoaceae',\n",
       " 'Akaniaceae',\n",
       " 'Alectoriaceae',\n",
       " 'Alismataceae',\n",
       " 'Allisoniaceae',\n",
       " 'Aloaceae',\n",
       " 'Alseuosmiaceae',\n",
       " 'Alstroemeriaceae',\n",
       " 'Altingiaceae',\n",
       " 'Alzateaceae']"
      ]
     },
     "execution_count": 51,
     "metadata": {},
     "output_type": "execute_result"
    }
   ],
   "source": [
    "data = kingdom_family_json\n",
    "# df = pd.json_normalize(data['data'])\n",
    "# df\n",
    "name,division_class, division = [],[],[]\n",
    "for x in data['data']:\n",
    "    name.append(x['name'])\n",
    "#   division_class.append(x[\"division_order\"][\"division_class\"]['name'])\n",
    "#     division(x['divison']['name'])\n",
    "name"
   ]
  },
  {
   "cell_type": "code",
   "execution_count": 32,
   "metadata": {},
   "outputs": [],
   "source": [
    "url = f\"https://trefle.io/api/v1/plants?token={APIKey}\"\n",
    "all_plants = requests.get(url)\n",
    "plants_list = all_plants.json()['data']"
   ]
  },
  {
   "cell_type": "code",
   "execution_count": 33,
   "metadata": {},
   "outputs": [
    {
     "data": {
      "text/plain": [
       "4"
      ]
     },
     "execution_count": 33,
     "metadata": {},
     "output_type": "execute_result"
    }
   ],
   "source": [
    "search = 'strawberry'\n",
    "name_url = f'https://trefle.io/api/v1/plants/search?token={APIKey}&q={search}'\n",
    "results = requests.get(name_url)\n",
    "meta_data = results.json()['meta']\n",
    "meta_total = meta_data[\"total\"]\n",
    "if meta_total % 20 != 0:\n",
    "    pages = round(meta_total/20 +1,0)\n",
    "else:\n",
    "    pages = int(meta_total/20)\n",
    "    \n",
    "pages = int(pages)\n",
    "pages"
   ]
  },
  {
   "cell_type": "code",
   "execution_count": 59,
   "metadata": {},
   "outputs": [
    {
     "ename": "JSONDecodeError",
     "evalue": "Expecting value: line 1 column 1 (char 0)",
     "output_type": "error",
     "traceback": [
      "\u001b[0;31m---------------------------------------------------------------------------\u001b[0m",
      "\u001b[0;31mJSONDecodeError\u001b[0m                           Traceback (most recent call last)",
      "\u001b[0;32m<ipython-input-59-567b33455c3b>\u001b[0m in \u001b[0;36m<module>\u001b[0;34m\u001b[0m\n\u001b[1;32m      8\u001b[0m     \u001b[0;32mif\u001b[0m \u001b[0mpage\u001b[0m \u001b[0;34m==\u001b[0m \u001b[0;36m1\u001b[0m\u001b[0;34m:\u001b[0m\u001b[0;34m\u001b[0m\u001b[0;34m\u001b[0m\u001b[0m\n\u001b[1;32m      9\u001b[0m         \u001b[0mresults\u001b[0m \u001b[0;34m=\u001b[0m \u001b[0mrequests\u001b[0m\u001b[0;34m.\u001b[0m\u001b[0mget\u001b[0m\u001b[0;34m(\u001b[0m\u001b[0mname_url\u001b[0m\u001b[0;34m)\u001b[0m\u001b[0;34m\u001b[0m\u001b[0;34m\u001b[0m\u001b[0m\n\u001b[0;32m---> 10\u001b[0;31m         \u001b[0mdata\u001b[0m \u001b[0;34m=\u001b[0m \u001b[0mresults\u001b[0m\u001b[0;34m.\u001b[0m\u001b[0mjson\u001b[0m\u001b[0;34m(\u001b[0m\u001b[0;34m)\u001b[0m\u001b[0;34m[\u001b[0m\u001b[0;34m'data'\u001b[0m\u001b[0;34m]\u001b[0m\u001b[0;34m\u001b[0m\u001b[0;34m\u001b[0m\u001b[0m\n\u001b[0m\u001b[1;32m     11\u001b[0m         \u001b[0mnames\u001b[0m \u001b[0;34m=\u001b[0m \u001b[0;34m[\u001b[0m\u001b[0msub\u001b[0m\u001b[0;34m[\u001b[0m\u001b[0;34m'common_name'\u001b[0m\u001b[0;34m]\u001b[0m \u001b[0;32mfor\u001b[0m \u001b[0msub\u001b[0m \u001b[0;32min\u001b[0m \u001b[0mdata\u001b[0m\u001b[0;34m]\u001b[0m\u001b[0;34m\u001b[0m\u001b[0;34m\u001b[0m\u001b[0m\n\u001b[1;32m     12\u001b[0m         \u001b[0ms_name\u001b[0m \u001b[0;34m=\u001b[0m \u001b[0;34m[\u001b[0m\u001b[0msub\u001b[0m\u001b[0;34m[\u001b[0m\u001b[0;34m'scientific_name'\u001b[0m\u001b[0;34m]\u001b[0m \u001b[0;32mfor\u001b[0m \u001b[0msub\u001b[0m \u001b[0;32min\u001b[0m \u001b[0mdata\u001b[0m\u001b[0;34m]\u001b[0m\u001b[0;34m\u001b[0m\u001b[0;34m\u001b[0m\u001b[0m\n",
      "\u001b[0;32m~/opt/anaconda3/lib/python3.8/site-packages/requests/models.py\u001b[0m in \u001b[0;36mjson\u001b[0;34m(self, **kwargs)\u001b[0m\n\u001b[1;32m    896\u001b[0m                     \u001b[0;31m# used.\u001b[0m\u001b[0;34m\u001b[0m\u001b[0;34m\u001b[0m\u001b[0;34m\u001b[0m\u001b[0m\n\u001b[1;32m    897\u001b[0m                     \u001b[0;32mpass\u001b[0m\u001b[0;34m\u001b[0m\u001b[0;34m\u001b[0m\u001b[0m\n\u001b[0;32m--> 898\u001b[0;31m         \u001b[0;32mreturn\u001b[0m \u001b[0mcomplexjson\u001b[0m\u001b[0;34m.\u001b[0m\u001b[0mloads\u001b[0m\u001b[0;34m(\u001b[0m\u001b[0mself\u001b[0m\u001b[0;34m.\u001b[0m\u001b[0mtext\u001b[0m\u001b[0;34m,\u001b[0m \u001b[0;34m**\u001b[0m\u001b[0mkwargs\u001b[0m\u001b[0;34m)\u001b[0m\u001b[0;34m\u001b[0m\u001b[0;34m\u001b[0m\u001b[0m\n\u001b[0m\u001b[1;32m    899\u001b[0m \u001b[0;34m\u001b[0m\u001b[0m\n\u001b[1;32m    900\u001b[0m     \u001b[0;34m@\u001b[0m\u001b[0mproperty\u001b[0m\u001b[0;34m\u001b[0m\u001b[0;34m\u001b[0m\u001b[0m\n",
      "\u001b[0;32m~/opt/anaconda3/lib/python3.8/site-packages/simplejson/__init__.py\u001b[0m in \u001b[0;36mloads\u001b[0;34m(s, encoding, cls, object_hook, parse_float, parse_int, parse_constant, object_pairs_hook, use_decimal, **kw)\u001b[0m\n\u001b[1;32m    516\u001b[0m             \u001b[0mparse_constant\u001b[0m \u001b[0;32mis\u001b[0m \u001b[0;32mNone\u001b[0m \u001b[0;32mand\u001b[0m \u001b[0mobject_pairs_hook\u001b[0m \u001b[0;32mis\u001b[0m \u001b[0;32mNone\u001b[0m\u001b[0;34m\u001b[0m\u001b[0;34m\u001b[0m\u001b[0m\n\u001b[1;32m    517\u001b[0m             and not use_decimal and not kw):\n\u001b[0;32m--> 518\u001b[0;31m         \u001b[0;32mreturn\u001b[0m \u001b[0m_default_decoder\u001b[0m\u001b[0;34m.\u001b[0m\u001b[0mdecode\u001b[0m\u001b[0;34m(\u001b[0m\u001b[0ms\u001b[0m\u001b[0;34m)\u001b[0m\u001b[0;34m\u001b[0m\u001b[0;34m\u001b[0m\u001b[0m\n\u001b[0m\u001b[1;32m    519\u001b[0m     \u001b[0;32mif\u001b[0m \u001b[0mcls\u001b[0m \u001b[0;32mis\u001b[0m \u001b[0;32mNone\u001b[0m\u001b[0;34m:\u001b[0m\u001b[0;34m\u001b[0m\u001b[0;34m\u001b[0m\u001b[0m\n\u001b[1;32m    520\u001b[0m         \u001b[0mcls\u001b[0m \u001b[0;34m=\u001b[0m \u001b[0mJSONDecoder\u001b[0m\u001b[0;34m\u001b[0m\u001b[0;34m\u001b[0m\u001b[0m\n",
      "\u001b[0;32m~/opt/anaconda3/lib/python3.8/site-packages/simplejson/decoder.py\u001b[0m in \u001b[0;36mdecode\u001b[0;34m(self, s, _w, _PY3)\u001b[0m\n\u001b[1;32m    368\u001b[0m         \u001b[0;32mif\u001b[0m \u001b[0m_PY3\u001b[0m \u001b[0;32mand\u001b[0m \u001b[0misinstance\u001b[0m\u001b[0;34m(\u001b[0m\u001b[0ms\u001b[0m\u001b[0;34m,\u001b[0m \u001b[0mbytes\u001b[0m\u001b[0;34m)\u001b[0m\u001b[0;34m:\u001b[0m\u001b[0;34m\u001b[0m\u001b[0;34m\u001b[0m\u001b[0m\n\u001b[1;32m    369\u001b[0m             \u001b[0ms\u001b[0m \u001b[0;34m=\u001b[0m \u001b[0mstr\u001b[0m\u001b[0;34m(\u001b[0m\u001b[0ms\u001b[0m\u001b[0;34m,\u001b[0m \u001b[0mself\u001b[0m\u001b[0;34m.\u001b[0m\u001b[0mencoding\u001b[0m\u001b[0;34m)\u001b[0m\u001b[0;34m\u001b[0m\u001b[0;34m\u001b[0m\u001b[0m\n\u001b[0;32m--> 370\u001b[0;31m         \u001b[0mobj\u001b[0m\u001b[0;34m,\u001b[0m \u001b[0mend\u001b[0m \u001b[0;34m=\u001b[0m \u001b[0mself\u001b[0m\u001b[0;34m.\u001b[0m\u001b[0mraw_decode\u001b[0m\u001b[0;34m(\u001b[0m\u001b[0ms\u001b[0m\u001b[0;34m)\u001b[0m\u001b[0;34m\u001b[0m\u001b[0;34m\u001b[0m\u001b[0m\n\u001b[0m\u001b[1;32m    371\u001b[0m         \u001b[0mend\u001b[0m \u001b[0;34m=\u001b[0m \u001b[0m_w\u001b[0m\u001b[0;34m(\u001b[0m\u001b[0ms\u001b[0m\u001b[0;34m,\u001b[0m \u001b[0mend\u001b[0m\u001b[0;34m)\u001b[0m\u001b[0;34m.\u001b[0m\u001b[0mend\u001b[0m\u001b[0;34m(\u001b[0m\u001b[0;34m)\u001b[0m\u001b[0;34m\u001b[0m\u001b[0;34m\u001b[0m\u001b[0m\n\u001b[1;32m    372\u001b[0m         \u001b[0;32mif\u001b[0m \u001b[0mend\u001b[0m \u001b[0;34m!=\u001b[0m \u001b[0mlen\u001b[0m\u001b[0;34m(\u001b[0m\u001b[0ms\u001b[0m\u001b[0;34m)\u001b[0m\u001b[0;34m:\u001b[0m\u001b[0;34m\u001b[0m\u001b[0;34m\u001b[0m\u001b[0m\n",
      "\u001b[0;32m~/opt/anaconda3/lib/python3.8/site-packages/simplejson/decoder.py\u001b[0m in \u001b[0;36mraw_decode\u001b[0;34m(self, s, idx, _w, _PY3)\u001b[0m\n\u001b[1;32m    398\u001b[0m             \u001b[0;32melif\u001b[0m \u001b[0mord0\u001b[0m \u001b[0;34m==\u001b[0m \u001b[0;36m0xef\u001b[0m \u001b[0;32mand\u001b[0m \u001b[0ms\u001b[0m\u001b[0;34m[\u001b[0m\u001b[0midx\u001b[0m\u001b[0;34m:\u001b[0m\u001b[0midx\u001b[0m \u001b[0;34m+\u001b[0m \u001b[0;36m3\u001b[0m\u001b[0;34m]\u001b[0m \u001b[0;34m==\u001b[0m \u001b[0;34m'\\xef\\xbb\\xbf'\u001b[0m\u001b[0;34m:\u001b[0m\u001b[0;34m\u001b[0m\u001b[0;34m\u001b[0m\u001b[0m\n\u001b[1;32m    399\u001b[0m                 \u001b[0midx\u001b[0m \u001b[0;34m+=\u001b[0m \u001b[0;36m3\u001b[0m\u001b[0;34m\u001b[0m\u001b[0;34m\u001b[0m\u001b[0m\n\u001b[0;32m--> 400\u001b[0;31m         \u001b[0;32mreturn\u001b[0m \u001b[0mself\u001b[0m\u001b[0;34m.\u001b[0m\u001b[0mscan_once\u001b[0m\u001b[0;34m(\u001b[0m\u001b[0ms\u001b[0m\u001b[0;34m,\u001b[0m \u001b[0midx\u001b[0m\u001b[0;34m=\u001b[0m\u001b[0m_w\u001b[0m\u001b[0;34m(\u001b[0m\u001b[0ms\u001b[0m\u001b[0;34m,\u001b[0m \u001b[0midx\u001b[0m\u001b[0;34m)\u001b[0m\u001b[0;34m.\u001b[0m\u001b[0mend\u001b[0m\u001b[0;34m(\u001b[0m\u001b[0;34m)\u001b[0m\u001b[0;34m)\u001b[0m\u001b[0;34m\u001b[0m\u001b[0;34m\u001b[0m\u001b[0m\n\u001b[0m",
      "\u001b[0;31mJSONDecodeError\u001b[0m: Expecting value: line 1 column 1 (char 0)"
     ]
    }
   ],
   "source": [
    "\n",
    "common_name=[]\n",
    "scientific_name =[]\n",
    "image_url=[]\n",
    "\n",
    "\n",
    "for page in range(1,pages+1):\n",
    "    \n",
    "    if page == 1:\n",
    "        results = requests.get(name_url)\n",
    "        data = results.json()['data']\n",
    "        names = [sub['common_name'] for sub in data]\n",
    "        s_name = [sub['scientific_name'] for sub in data]\n",
    "        image = [sub['image_url'] for sub in data]\n",
    "        common_name.append(names)\n",
    "#         scientific_name.append(s_name)\n",
    "        image_url.append(image)\n",
    "    else:\n",
    "        page_url = f'https://trefle.io/api/v1/plants/search?token={APIKey}&q={search}&page={page}'\n",
    "        results = requests.get(page_url)\n",
    "        data = results.json()['data']\n",
    "        names = [sub['common_name'] for sub in data]\n",
    "        s_name = [sub['scientific_name'] for sub in data]\n",
    "        image = [sub['image_url'] for sub in data]\n",
    "        common_name.append(names)\n",
    "#         scientific_name.append(s_name)\n",
    "        image_url.append(image)\n",
    "        \n",
    "        i = +1\n",
    "\n",
    "# scientific_name\n",
    "\n",
    "common_name"
   ]
  },
  {
   "cell_type": "code",
   "execution_count": 37,
   "metadata": {},
   "outputs": [],
   "source": [
    "# from itertools import chain\n",
    "\n"
   ]
  },
  {
   "cell_type": "code",
   "execution_count": 39,
   "metadata": {},
   "outputs": [],
   "source": [
    "def flatten_list(_2d_list):\n",
    "    flat_list = []\n",
    "    # Iterate through the outer list\n",
    "    for element in _2d_list:\n",
    "        if type(element) is list:\n",
    "            # If the element is of type list, iterate through the sublist\n",
    "            for item in element:\n",
    "                flat_list.append(item)\n",
    "        else:\n",
    "            flat_list.append(element)\n",
    "    return flat_list"
   ]
  },
  {
   "cell_type": "code",
   "execution_count": 40,
   "metadata": {},
   "outputs": [
    {
     "data": {
      "text/plain": [
       "['Fragaria vesca',\n",
       " 'Potentilla indica',\n",
       " 'Arbutus unedo',\n",
       " 'Trifolium fragiferum',\n",
       " 'Fragaria × ananassa',\n",
       " 'Fragaria virginiana',\n",
       " 'Psidium cattleianum',\n",
       " 'Fragaria viridis',\n",
       " 'Echinocereus stramineus',\n",
       " 'Fragaria chiloensis',\n",
       " 'Euonymus obovatus',\n",
       " 'Rubus illecebrosus',\n",
       " 'Arbutus andrachne',\n",
       " 'Physalis grisea',\n",
       " 'Fragaria moschata',\n",
       " 'Cephalanthus natalensis',\n",
       " 'Potentilla micrantha',\n",
       " 'Potentilla sterilis',\n",
       " 'Saxifragopsis fragarioides',\n",
       " 'Potentilla fragiformis',\n",
       " 'Euonymus americanus',\n",
       " 'Calycanthus floridus',\n",
       " 'Arbutus × andrachnoides',\n",
       " 'Rubus pedatus',\n",
       " 'Blitum capitatum',\n",
       " 'Euonymus hamiltonianus',\n",
       " 'Mammillaria dioica',\n",
       " 'Arbutus canariensis',\n",
       " 'Echinocereus engelmannii',\n",
       " 'Echinocereus fasciculatus',\n",
       " 'Saxifraga stolonifera',\n",
       " 'Echinocereus enneacanthus',\n",
       " 'Microcachrys tetragona',\n",
       " 'Muntingia calabura',\n",
       " 'Echinocereus fendleri',\n",
       " 'Blitum virgatum',\n",
       " 'Euonymus occidentalis',\n",
       " 'Acalypha herzogiana',\n",
       " 'Pelargonium scabrum',\n",
       " 'Ugni molinae',\n",
       " 'Fragaria cascadensis',\n",
       " 'Trifolium resupinatum',\n",
       " 'Geum idahoense',\n",
       " 'Physalis pubescens',\n",
       " 'Alkekengi officinarum',\n",
       " 'Selenicereus monacanthus',\n",
       " 'Waldsteinia fragarioides',\n",
       " 'Waldsteinia pendula',\n",
       " 'Calycanthus occidentalis',\n",
       " 'Chimonanthus praecox',\n",
       " 'Idiospermum australiense',\n",
       " 'Selenicereus triangularis',\n",
       " 'Chimonanthus nitens',\n",
       " 'Waldsteinia lobata',\n",
       " 'Selenicereus undatus',\n",
       " 'Calycanthus chinensis',\n",
       " 'Chimonanthus campanulatus',\n",
       " 'Chimonanthus zhejiangensis',\n",
       " 'Calycanthus brockianus',\n",
       " 'Calycanthus lusaticus',\n",
       " 'Chimonanthus grammatus',\n",
       " 'Chimonanthus salicifolius',\n",
       " 'Calycanthus brockiana']"
      ]
     },
     "execution_count": 40,
     "metadata": {},
     "output_type": "execute_result"
    }
   ],
   "source": [
    "flatten_list(scientific_name)"
   ]
  },
  {
   "cell_type": "code",
   "execution_count": null,
   "metadata": {},
   "outputs": [],
   "source": []
  }
 ],
 "metadata": {
  "kernelspec": {
   "display_name": "Python 3",
   "language": "python",
   "name": "python3"
  },
  "language_info": {
   "codemirror_mode": {
    "name": "ipython",
    "version": 3
   },
   "file_extension": ".py",
   "mimetype": "text/x-python",
   "name": "python",
   "nbconvert_exporter": "python",
   "pygments_lexer": "ipython3",
   "version": "3.8.3"
  }
 },
 "nbformat": 4,
 "nbformat_minor": 4
}
