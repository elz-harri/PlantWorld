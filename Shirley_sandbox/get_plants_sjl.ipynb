{
 "cells": [
  {
   "cell_type": "code",
   "execution_count": 1,
   "metadata": {},
   "outputs": [],
   "source": [
    "from bs4 import BeautifulSoup\n",
    "import pymongo\n",
    "import pandas as pd\n",
    "import requests\n",
    "from sqlalchemy import create_engine\n",
    "from config import trefle_key\n",
    "token = trefle_key\n",
    "# Document Resource :https://docs.trefle.io/docs/examples/snippets"
   ]
  },
  {
   "cell_type": "code",
   "execution_count": 2,
   "metadata": {},
   "outputs": [],
   "source": [
    "# Create an URL \n",
    "url = f\"https://trefle.io/api/v1/plants?token={token}\"\n"
   ]
  },
  {
   "cell_type": "code",
   "execution_count": null,
   "metadata": {},
   "outputs": [],
   "source": [
    "# Need to get data on all plants and species and save it as a DB \n",
    "\n",
    "all_plants = requests.get(url)\n",
    "plants_list = all_plants.json()['data']\n"
   ]
  },
  {
   "cell_type": "code",
   "execution_count": 3,
   "metadata": {},
   "outputs": [
    {
     "data": {
      "text/plain": [
       "4"
      ]
     },
     "execution_count": 3,
     "metadata": {},
     "output_type": "execute_result"
    }
   ],
   "source": [
    "#set-up to generate a list of returned data in a loop\n",
    "search = 'strawberry'\n",
    "name_url = f'https://trefle.io/api/v1/plants/search?token={token}&q={search}'\n",
    "results = requests.get(name_url)\n",
    "meta_data = results.json()['meta']\n",
    "meta_total = meta_data[\"total\"]\n",
    "if meta_total % 20 != 0:\n",
    "    pages = round(meta_total/20 +1,0)\n",
    "else:\n",
    "    pages = int(meta_total/20)\n",
    "    \n",
    "pages = int(pages)\n",
    "pages\n",
    "    "
   ]
  },
  {
   "cell_type": "markdown",
   "metadata": {},
   "source": [
    "### Create empty lists and loop through pages\n"
   ]
  },
  {
   "cell_type": "code",
   "execution_count": 4,
   "metadata": {},
   "outputs": [
    {
     "data": {
      "text/plain": [
       "[['Fragaria vesca',\n",
       "  'Potentilla indica',\n",
       "  'Arbutus unedo',\n",
       "  'Trifolium fragiferum',\n",
       "  'Fragaria × ananassa',\n",
       "  'Fragaria virginiana',\n",
       "  'Psidium cattleianum',\n",
       "  'Fragaria viridis',\n",
       "  'Echinocereus stramineus',\n",
       "  'Fragaria chiloensis',\n",
       "  'Euonymus obovatus',\n",
       "  'Rubus illecebrosus',\n",
       "  'Arbutus andrachne',\n",
       "  'Physalis grisea',\n",
       "  'Fragaria moschata',\n",
       "  'Cephalanthus natalensis',\n",
       "  'Potentilla micrantha',\n",
       "  'Potentilla sterilis',\n",
       "  'Saxifragopsis fragarioides',\n",
       "  'Potentilla fragiformis'],\n",
       " ['Euonymus americanus',\n",
       "  'Calycanthus floridus',\n",
       "  'Arbutus × andrachnoides',\n",
       "  'Rubus pedatus',\n",
       "  'Blitum capitatum',\n",
       "  'Euonymus hamiltonianus',\n",
       "  'Mammillaria dioica',\n",
       "  'Arbutus canariensis',\n",
       "  'Echinocereus engelmannii',\n",
       "  'Echinocereus fasciculatus',\n",
       "  'Saxifraga stolonifera',\n",
       "  'Echinocereus enneacanthus',\n",
       "  'Microcachrys tetragona',\n",
       "  'Muntingia calabura',\n",
       "  'Echinocereus fendleri',\n",
       "  'Blitum virgatum',\n",
       "  'Euonymus occidentalis',\n",
       "  'Acalypha herzogiana',\n",
       "  'Pelargonium scabrum',\n",
       "  'Ugni molinae'],\n",
       " ['Fragaria cascadensis',\n",
       "  'Trifolium resupinatum',\n",
       "  'Geum idahoense',\n",
       "  'Physalis pubescens',\n",
       "  'Alkekengi officinarum',\n",
       "  'Selenicereus monacanthus',\n",
       "  'Waldsteinia fragarioides',\n",
       "  'Waldsteinia pendula',\n",
       "  'Calycanthus occidentalis',\n",
       "  'Chimonanthus praecox',\n",
       "  'Idiospermum australiense',\n",
       "  'Selenicereus triangularis',\n",
       "  'Chimonanthus nitens',\n",
       "  'Waldsteinia lobata',\n",
       "  'Selenicereus undatus',\n",
       "  'Calycanthus chinensis',\n",
       "  'Chimonanthus campanulatus',\n",
       "  'Chimonanthus zhejiangensis',\n",
       "  'Calycanthus brockianus',\n",
       "  'Calycanthus lusaticus'],\n",
       " ['Chimonanthus grammatus',\n",
       "  'Chimonanthus salicifolius',\n",
       "  'Calycanthus brockiana']]"
      ]
     },
     "execution_count": 4,
     "metadata": {},
     "output_type": "execute_result"
    }
   ],
   "source": [
    "common_name=[]\n",
    "scientific_name =[]\n",
    "image_url=[]\n",
    "\n",
    "for page in range(1,pages+1):\n",
    "    if page == 1:\n",
    "        results = requests.get(name_url)\n",
    "        data = results.json()['data']\n",
    "        names = [sub['common_name'] for sub in data]\n",
    "        s_name = [sub['scientific_name'] for sub in data]\n",
    "        image = [sub['image_url'] for sub in data]\n",
    "        common_name.append(names)\n",
    "        scientific_name.append(s_name)\n",
    "        image_url.append(image)\n",
    "    else:\n",
    "        page_url = f'https://trefle.io/api/v1/plants/search?token={token}&q={search}&page={page}'\n",
    "        results = requests.get(page_url)\n",
    "        data = results.json()['data']\n",
    "        names = [sub['common_name'] for sub in data]\n",
    "        s_name = [sub['scientific_name'] for sub in data]\n",
    "        image = [sub['image_url'] for sub in data]\n",
    "        common_name.append(names)\n",
    "        scientific_name.append(s_name)\n",
    "        image_url.append(image)\n",
    "        \n",
    "        i = +1\n",
    "\n",
    "scientific_name\n"
   ]
  },
  {
   "cell_type": "code",
   "execution_count": null,
   "metadata": {},
   "outputs": [],
   "source": [
    "# all_plants.json()"
   ]
  },
  {
   "cell_type": "code",
   "execution_count": null,
   "metadata": {},
   "outputs": [],
   "source": [
    "# Need to get data on all species and species and save it as a DB \n",
    "species_url = url = f\"https://trefle.io/api/v1/species?token={token}\"\n",
    "all_species = requests.get(species_url)\n",
    "species_list = all_plants.json()['data']\n",
    "# species_list"
   ]
  },
  {
   "cell_type": "code",
   "execution_count": null,
   "metadata": {},
   "outputs": [],
   "source": [
    "# Need to get data on all edible plants and species and save it as a DB \n",
    "edible_url = f\"https://trefle.io/api/v1/plants?filter_not%5Bedible_part%5D=null&token={token}\"\n",
    "all_edible = requests.get(edible_url)\n",
    "edible_list = all_plants.json()['data']\n",
    "# edible_list"
   ]
  },
  {
   "cell_type": "code",
   "execution_count": null,
   "metadata": {},
   "outputs": [],
   "source": [
    "# Get all Tallest trees\n",
    "tall_tree_url = f\"https://trefle.io/api/v1/plants?filter_not%5Bmaximum_height_cm%5D=null&filter%5Bligneous_type%5D=tree&order%5Bmaximum_height_cm%5D=desc&token={token}\"\n",
    "all_tall_tree = requests.get(tall_tree_url)\n",
    "tall_tree_list = all_tall_tree.json()['data']\n",
    "# tall_tree_list"
   ]
  },
  {
   "cell_type": "code",
   "execution_count": null,
   "metadata": {},
   "outputs": [],
   "source": [
    "# Get all the Countries/zones\n",
    "zones_url = f\"https://trefle.io/api/v1/distributions?token={token}\"\n",
    "zones_list = requests.get(zones_url).json()['data']\n",
    "zones_list"
   ]
  },
  {
   "cell_type": "code",
   "execution_count": null,
   "metadata": {},
   "outputs": [],
   "source": [
    "requests.get(zones_url).json()"
   ]
  },
  {
   "cell_type": "code",
   "execution_count": null,
   "metadata": {},
   "outputs": [],
   "source": [
    "zone_test = requests.get(zones_url).json()\n",
    "# zone_test"
   ]
  },
  {
   "cell_type": "code",
   "execution_count": null,
   "metadata": {},
   "outputs": [],
   "source": [
    "# Get all Family\n",
    "family_url = \"https://trefle.io/api/v1/families/?token={token}\"\n",
    "family_list = requests.get(family_url).json()['data']\n",
    "# family_list"
   ]
  },
  {
   "cell_type": "code",
   "execution_count": null,
   "metadata": {},
   "outputs": [],
   "source": [
    "# Get all genus\n",
    "genus_url = f\"https://trefle.io/api/v1/genus?token={token}\"\n",
    "genus_list = requests.get(genus_url).json()['data']"
   ]
  },
  {
   "cell_type": "code",
   "execution_count": null,
   "metadata": {},
   "outputs": [],
   "source": [
    "# Initialize PyMongo to work with MongoDBs\n",
    "conn = 'mongodb://localhost:27017'\n",
    "client = pymongo.MongoClient(conn)"
   ]
  },
  {
   "cell_type": "code",
   "execution_count": null,
   "metadata": {},
   "outputs": [],
   "source": [
    "db = client.trefle\n",
    "collection = db.plants"
   ]
  },
  {
   "cell_type": "code",
   "execution_count": null,
   "metadata": {},
   "outputs": [],
   "source": [
    "collection.insert_many(plants_list)"
   ]
  },
  {
   "cell_type": "code",
   "execution_count": null,
   "metadata": {},
   "outputs": [],
   "source": [
    "collection = db.species\n",
    "collection.insert_many(species_list)"
   ]
  },
  {
   "cell_type": "code",
   "execution_count": null,
   "metadata": {},
   "outputs": [],
   "source": [
    "collection = db.edible_plants\n",
    "collection.insert_many(edible_list)"
   ]
  },
  {
   "cell_type": "code",
   "execution_count": null,
   "metadata": {},
   "outputs": [],
   "source": [
    "collection = db.tall_tree\n",
    "collection.insert_many(tall_tree_list)"
   ]
  },
  {
   "cell_type": "code",
   "execution_count": null,
   "metadata": {},
   "outputs": [],
   "source": [
    "collection = db.country_zones\n",
    "collection.insert_many(zones_list)"
   ]
  },
  {
   "cell_type": "code",
   "execution_count": null,
   "metadata": {},
   "outputs": [],
   "source": [
    "collection = db.genus\n",
    "collection.insert_many(genus_list)"
   ]
  },
  {
   "cell_type": "code",
   "execution_count": null,
   "metadata": {},
   "outputs": [],
   "source": [
    "collection =db.family\n",
    "collection.insert_many(family_list)"
   ]
  },
  {
   "cell_type": "code",
   "execution_count": null,
   "metadata": {},
   "outputs": [],
   "source": []
  }
 ],
 "metadata": {
  "kernelspec": {
   "display_name": "Python 3",
   "language": "python",
   "name": "python3"
  },
  "language_info": {
   "codemirror_mode": {
    "name": "ipython",
    "version": 3
   },
   "file_extension": ".py",
   "mimetype": "text/x-python",
   "name": "python",
   "nbconvert_exporter": "python",
   "pygments_lexer": "ipython3",
   "version": "3.8.3"
  }
 },
 "nbformat": 4,
 "nbformat_minor": 4
}
